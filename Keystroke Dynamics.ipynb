{
  "cells": [
    {
      "metadata": {},
      "cell_type": "markdown",
      "source": "### import Libraries"
    },
    {
      "metadata": {
        "trusted": true
      },
      "cell_type": "code",
      "source": "import pandas as pd\nimport numpy as np\nfrom sklearn import preprocessing\nfrom sklearn.model_selection import train_test_split\nfrom sklearn.tree import DecisionTreeClassifier\nfrom sklearn.neighbors import KNeighborsClassifier\nfrom sklearn.ensemble import RandomForestClassifier,GradientBoostingClassifier\nfrom sklearn.model_selection import GridSearchCV\nfrom sklearn.neural_network import MLPClassifier\nfrom sklearn import svm\nfrom sklearn import metrics\nimport matplotlib.pyplot as plt\nprint('Done Importing')",
      "execution_count": 1,
      "outputs": [
        {
          "output_type": "stream",
          "text": "Done Importing\n",
          "name": "stdout"
        }
      ]
    },
    {
      "metadata": {
        "trusted": true
      },
      "cell_type": "code",
      "source": "",
      "execution_count": null,
      "outputs": []
    },
    {
      "metadata": {},
      "cell_type": "markdown",
      "source": "#### Import the dataset"
    },
    {
      "metadata": {
        "trusted": true
      },
      "cell_type": "code",
      "source": "df=pd.read_csv('DSL-StrongPasswordData.csv')\ndf.head()",
      "execution_count": 2,
      "outputs": [
        {
          "output_type": "execute_result",
          "execution_count": 2,
          "data": {
            "text/html": "<div>\n<style scoped>\n    .dataframe tbody tr th:only-of-type {\n        vertical-align: middle;\n    }\n\n    .dataframe tbody tr th {\n        vertical-align: top;\n    }\n\n    .dataframe thead th {\n        text-align: right;\n    }\n</style>\n<table border=\"1\" class=\"dataframe\">\n  <thead>\n    <tr style=\"text-align: right;\">\n      <th></th>\n      <th>subject</th>\n      <th>sessionIndex</th>\n      <th>rep</th>\n      <th>H.period</th>\n      <th>DD.period.t</th>\n      <th>UD.period.t</th>\n      <th>H.t</th>\n      <th>DD.t.i</th>\n      <th>UD.t.i</th>\n      <th>H.i</th>\n      <th>...</th>\n      <th>H.a</th>\n      <th>DD.a.n</th>\n      <th>UD.a.n</th>\n      <th>H.n</th>\n      <th>DD.n.l</th>\n      <th>UD.n.l</th>\n      <th>H.l</th>\n      <th>DD.l.Return</th>\n      <th>UD.l.Return</th>\n      <th>H.Return</th>\n    </tr>\n  </thead>\n  <tbody>\n    <tr>\n      <th>0</th>\n      <td>s002</td>\n      <td>1</td>\n      <td>1</td>\n      <td>0.1491</td>\n      <td>0.3979</td>\n      <td>0.2488</td>\n      <td>0.1069</td>\n      <td>0.1674</td>\n      <td>0.0605</td>\n      <td>0.1169</td>\n      <td>...</td>\n      <td>0.1349</td>\n      <td>0.1484</td>\n      <td>0.0135</td>\n      <td>0.0932</td>\n      <td>0.3515</td>\n      <td>0.2583</td>\n      <td>0.1338</td>\n      <td>0.3509</td>\n      <td>0.2171</td>\n      <td>0.0742</td>\n    </tr>\n    <tr>\n      <th>1</th>\n      <td>s002</td>\n      <td>1</td>\n      <td>2</td>\n      <td>0.1111</td>\n      <td>0.3451</td>\n      <td>0.2340</td>\n      <td>0.0694</td>\n      <td>0.1283</td>\n      <td>0.0589</td>\n      <td>0.0908</td>\n      <td>...</td>\n      <td>0.1412</td>\n      <td>0.2558</td>\n      <td>0.1146</td>\n      <td>0.1146</td>\n      <td>0.2642</td>\n      <td>0.1496</td>\n      <td>0.0839</td>\n      <td>0.2756</td>\n      <td>0.1917</td>\n      <td>0.0747</td>\n    </tr>\n    <tr>\n      <th>2</th>\n      <td>s002</td>\n      <td>1</td>\n      <td>3</td>\n      <td>0.1328</td>\n      <td>0.2072</td>\n      <td>0.0744</td>\n      <td>0.0731</td>\n      <td>0.1291</td>\n      <td>0.0560</td>\n      <td>0.0821</td>\n      <td>...</td>\n      <td>0.1621</td>\n      <td>0.2332</td>\n      <td>0.0711</td>\n      <td>0.1172</td>\n      <td>0.2705</td>\n      <td>0.1533</td>\n      <td>0.1085</td>\n      <td>0.2847</td>\n      <td>0.1762</td>\n      <td>0.0945</td>\n    </tr>\n    <tr>\n      <th>3</th>\n      <td>s002</td>\n      <td>1</td>\n      <td>4</td>\n      <td>0.1291</td>\n      <td>0.2515</td>\n      <td>0.1224</td>\n      <td>0.1059</td>\n      <td>0.2495</td>\n      <td>0.1436</td>\n      <td>0.1040</td>\n      <td>...</td>\n      <td>0.1457</td>\n      <td>0.1629</td>\n      <td>0.0172</td>\n      <td>0.0866</td>\n      <td>0.2341</td>\n      <td>0.1475</td>\n      <td>0.0845</td>\n      <td>0.3232</td>\n      <td>0.2387</td>\n      <td>0.0813</td>\n    </tr>\n    <tr>\n      <th>4</th>\n      <td>s002</td>\n      <td>1</td>\n      <td>5</td>\n      <td>0.1249</td>\n      <td>0.2317</td>\n      <td>0.1068</td>\n      <td>0.0895</td>\n      <td>0.1676</td>\n      <td>0.0781</td>\n      <td>0.0903</td>\n      <td>...</td>\n      <td>0.1312</td>\n      <td>0.1582</td>\n      <td>0.0270</td>\n      <td>0.0884</td>\n      <td>0.2517</td>\n      <td>0.1633</td>\n      <td>0.0903</td>\n      <td>0.2517</td>\n      <td>0.1614</td>\n      <td>0.0818</td>\n    </tr>\n  </tbody>\n</table>\n<p>5 rows × 34 columns</p>\n</div>",
            "text/plain": "  subject  sessionIndex  rep  H.period  DD.period.t  UD.period.t     H.t  \\\n0    s002             1    1    0.1491       0.3979       0.2488  0.1069   \n1    s002             1    2    0.1111       0.3451       0.2340  0.0694   \n2    s002             1    3    0.1328       0.2072       0.0744  0.0731   \n3    s002             1    4    0.1291       0.2515       0.1224  0.1059   \n4    s002             1    5    0.1249       0.2317       0.1068  0.0895   \n\n   DD.t.i  UD.t.i     H.i    ...        H.a  DD.a.n  UD.a.n     H.n  DD.n.l  \\\n0  0.1674  0.0605  0.1169    ...     0.1349  0.1484  0.0135  0.0932  0.3515   \n1  0.1283  0.0589  0.0908    ...     0.1412  0.2558  0.1146  0.1146  0.2642   \n2  0.1291  0.0560  0.0821    ...     0.1621  0.2332  0.0711  0.1172  0.2705   \n3  0.2495  0.1436  0.1040    ...     0.1457  0.1629  0.0172  0.0866  0.2341   \n4  0.1676  0.0781  0.0903    ...     0.1312  0.1582  0.0270  0.0884  0.2517   \n\n   UD.n.l     H.l  DD.l.Return  UD.l.Return  H.Return  \n0  0.2583  0.1338       0.3509       0.2171    0.0742  \n1  0.1496  0.0839       0.2756       0.1917    0.0747  \n2  0.1533  0.1085       0.2847       0.1762    0.0945  \n3  0.1475  0.0845       0.3232       0.2387    0.0813  \n4  0.1633  0.0903       0.2517       0.1614    0.0818  \n\n[5 rows x 34 columns]"
          },
          "metadata": {}
        }
      ]
    },
    {
      "metadata": {
        "trusted": true
      },
      "cell_type": "code",
      "source": "#check the shape of the data\ndf.shape",
      "execution_count": 3,
      "outputs": [
        {
          "output_type": "execute_result",
          "execution_count": 3,
          "data": {
            "text/plain": "(20400, 34)"
          },
          "metadata": {}
        }
      ]
    },
    {
      "metadata": {
        "trusted": true
      },
      "cell_type": "code",
      "source": "#check for null values\ndf.isnull().sum()",
      "execution_count": 4,
      "outputs": [
        {
          "output_type": "execute_result",
          "execution_count": 4,
          "data": {
            "text/plain": "subject            0\nsessionIndex       0\nrep                0\nH.period           0\nDD.period.t        0\nUD.period.t        0\nH.t                0\nDD.t.i             0\nUD.t.i             0\nH.i                0\nDD.i.e             0\nUD.i.e             0\nH.e                0\nDD.e.five          0\nUD.e.five          0\nH.five             0\nDD.five.Shift.r    0\nUD.five.Shift.r    0\nH.Shift.r          0\nDD.Shift.r.o       0\nUD.Shift.r.o       0\nH.o                0\nDD.o.a             0\nUD.o.a             0\nH.a                0\nDD.a.n             0\nUD.a.n             0\nH.n                0\nDD.n.l             0\nUD.n.l             0\nH.l                0\nDD.l.Return        0\nUD.l.Return        0\nH.Return           0\ndtype: int64"
          },
          "metadata": {}
        }
      ]
    },
    {
      "metadata": {
        "trusted": true
      },
      "cell_type": "code",
      "source": "#check for duplicate rows\nnp.sum(df.duplicated())",
      "execution_count": 5,
      "outputs": [
        {
          "output_type": "execute_result",
          "execution_count": 5,
          "data": {
            "text/plain": "0"
          },
          "metadata": {}
        }
      ]
    },
    {
      "metadata": {
        "trusted": true
      },
      "cell_type": "code",
      "source": "#check the data types\ndf.dtypes",
      "execution_count": 6,
      "outputs": [
        {
          "output_type": "execute_result",
          "execution_count": 6,
          "data": {
            "text/plain": "subject             object\nsessionIndex         int64\nrep                  int64\nH.period           float64\nDD.period.t        float64\nUD.period.t        float64\nH.t                float64\nDD.t.i             float64\nUD.t.i             float64\nH.i                float64\nDD.i.e             float64\nUD.i.e             float64\nH.e                float64\nDD.e.five          float64\nUD.e.five          float64\nH.five             float64\nDD.five.Shift.r    float64\nUD.five.Shift.r    float64\nH.Shift.r          float64\nDD.Shift.r.o       float64\nUD.Shift.r.o       float64\nH.o                float64\nDD.o.a             float64\nUD.o.a             float64\nH.a                float64\nDD.a.n             float64\nUD.a.n             float64\nH.n                float64\nDD.n.l             float64\nUD.n.l             float64\nH.l                float64\nDD.l.Return        float64\nUD.l.Return        float64\nH.Return           float64\ndtype: object"
          },
          "metadata": {}
        }
      ]
    },
    {
      "metadata": {
        "trusted": true
      },
      "cell_type": "code",
      "source": "df.columns",
      "execution_count": 7,
      "outputs": [
        {
          "output_type": "execute_result",
          "execution_count": 7,
          "data": {
            "text/plain": "Index(['subject', 'sessionIndex', 'rep', 'H.period', 'DD.period.t',\n       'UD.period.t', 'H.t', 'DD.t.i', 'UD.t.i', 'H.i', 'DD.i.e', 'UD.i.e',\n       'H.e', 'DD.e.five', 'UD.e.five', 'H.five', 'DD.five.Shift.r',\n       'UD.five.Shift.r', 'H.Shift.r', 'DD.Shift.r.o', 'UD.Shift.r.o', 'H.o',\n       'DD.o.a', 'UD.o.a', 'H.a', 'DD.a.n', 'UD.a.n', 'H.n', 'DD.n.l',\n       'UD.n.l', 'H.l', 'DD.l.Return', 'UD.l.Return', 'H.Return'],\n      dtype='object')"
          },
          "metadata": {}
        }
      ]
    },
    {
      "metadata": {
        "trusted": true
      },
      "cell_type": "code",
      "source": "x=df[['sessionIndex', 'rep', 'H.period', 'DD.period.t',\n       'UD.period.t', 'H.t', 'DD.t.i', 'UD.t.i', 'H.i', 'DD.i.e', 'UD.i.e',\n       'H.e', 'DD.e.five', 'UD.e.five', 'H.five', 'DD.five.Shift.r',\n       'UD.five.Shift.r', 'H.Shift.r', 'DD.Shift.r.o', 'UD.Shift.r.o', 'H.o',\n       'DD.o.a', 'UD.o.a', 'H.a', 'DD.a.n', 'UD.a.n', 'H.n', 'DD.n.l',\n       'UD.n.l', 'H.l', 'DD.l.Return', 'UD.l.Return', 'H.Return']].values\ny=df[['subject']].values\ny=y.ravel()",
      "execution_count": 8,
      "outputs": []
    },
    {
      "metadata": {
        "trusted": true
      },
      "cell_type": "code",
      "source": "#scale your data\nx=preprocessing.StandardScaler().fit(x).transform(x)",
      "execution_count": 17,
      "outputs": []
    },
    {
      "metadata": {},
      "cell_type": "markdown",
      "source": "### Train split your dataset"
    },
    {
      "metadata": {
        "trusted": true
      },
      "cell_type": "code",
      "source": "x_train,x_test,y_train,y_test=train_test_split(x,y,test_size=0.20,random_state=4)",
      "execution_count": 18,
      "outputs": []
    },
    {
      "metadata": {
        "trusted": true
      },
      "cell_type": "code",
      "source": "print('x_train',x_train.shape)\nprint('y_train',y_train.shape)",
      "execution_count": 19,
      "outputs": [
        {
          "output_type": "stream",
          "text": "x_train (16320, 33)\ny_train (16320,)\n",
          "name": "stdout"
        }
      ]
    },
    {
      "metadata": {
        "trusted": true
      },
      "cell_type": "markdown",
      "source": "### Model your data"
    },
    {
      "metadata": {
        "trusted": true
      },
      "cell_type": "code",
      "source": "model1=DecisionTreeClassifier(criterion='entropy')\nmodel2=KNeighborsClassifier(n_neighbors =5)\nmodel3=RandomForestClassifier()\nmodel4=GradientBoostingClassifier()\nmodel5=svm.SVC(kernel='rbf')\nmodel6=MLPClassifier()",
      "execution_count": 20,
      "outputs": []
    },
    {
      "metadata": {
        "trusted": true
      },
      "cell_type": "code",
      "source": "#find the best k\nKs = 10\nmean_acc = np.zeros((Ks-1))\nstd_acc = np.zeros((Ks-1))\nConfustionMx = [];\nfor n in range(1,Ks):\n    \n    #Train Model and Predict  \n    neigh = KNeighborsClassifier(n_neighbors = n).fit(x_train,y_train)\n    yhat=neigh.predict(x_test)\n    mean_acc[n-1] = metrics.accuracy_score(y_test, yhat)\n\n    \n    std_acc[n-1]=np.std(yhat==y_test)/np.sqrt(yhat.shape[0])\n\nmean_acc",
      "execution_count": 21,
      "outputs": [
        {
          "output_type": "execute_result",
          "execution_count": 21,
          "data": {
            "text/plain": "array([0.86151961, 0.83382353, 0.85661765, 0.86151961, 0.86568627,\n       0.86372549, 0.86446078, 0.86151961, 0.86495098])"
          },
          "metadata": {}
        }
      ]
    },
    {
      "metadata": {
        "trusted": true
      },
      "cell_type": "code",
      "source": "print( \"The best accuracy was with\", mean_acc.max(), \"with k=\", mean_acc.argmax()+1)",
      "execution_count": 22,
      "outputs": [
        {
          "output_type": "stream",
          "text": "The best accuracy was with 0.865686274509804 with k= 5\n",
          "name": "stdout"
        }
      ]
    },
    {
      "metadata": {
        "trusted": true
      },
      "cell_type": "code",
      "source": "#Grid search for best parameters",
      "execution_count": 23,
      "outputs": []
    },
    {
      "metadata": {
        "trusted": true
      },
      "cell_type": "code",
      "source": "model1.fit(x_train,y_train)\nmodel2.fit(x_train,y_train)\nmodel3.fit(x_train,y_train)\nmodel4.fit(x_train,y_train)\nmodel5.fit(x_train,y_train)\nmodel6.fit(x_train,y_train)",
      "execution_count": 24,
      "outputs": [
        {
          "output_type": "execute_result",
          "execution_count": 24,
          "data": {
            "text/plain": "MLPClassifier(activation='relu', alpha=0.0001, batch_size='auto', beta_1=0.9,\n       beta_2=0.999, early_stopping=False, epsilon=1e-08,\n       hidden_layer_sizes=(100,), learning_rate='constant',\n       learning_rate_init=0.001, max_iter=200, momentum=0.9,\n       nesterovs_momentum=True, power_t=0.5, random_state=None,\n       shuffle=True, solver='adam', tol=0.0001, validation_fraction=0.1,\n       verbose=False, warm_start=False)"
          },
          "metadata": {}
        }
      ]
    },
    {
      "metadata": {
        "trusted": true
      },
      "cell_type": "code",
      "source": "yhat1=model1.predict(x_test)\nyhat2=model2.predict(x_test)\nyhat3=model3.predict(x_test)\nyhat4=model4.predict(x_test)\nyhat5=model5.predict(x_test)\nyhat6=model6.predict(x_test)",
      "execution_count": 25,
      "outputs": []
    },
    {
      "metadata": {
        "trusted": true
      },
      "cell_type": "code",
      "source": "#Evaluation Decision Tree\nmetrics.accuracy_score(y_test,yhat1)",
      "execution_count": 26,
      "outputs": [
        {
          "output_type": "execute_result",
          "execution_count": 26,
          "data": {
            "text/plain": "0.7526960784313725"
          },
          "metadata": {}
        }
      ]
    },
    {
      "metadata": {
        "trusted": true
      },
      "cell_type": "code",
      "source": "#Evaluation K Nearest\nmetrics.accuracy_score(y_test,yhat2)",
      "execution_count": 27,
      "outputs": [
        {
          "output_type": "execute_result",
          "execution_count": 27,
          "data": {
            "text/plain": "0.865686274509804"
          },
          "metadata": {}
        }
      ]
    },
    {
      "metadata": {
        "trusted": true
      },
      "cell_type": "code",
      "source": "#Evaluation  Random Forest\nmetrics.accuracy_score(y_test,yhat3)",
      "execution_count": 28,
      "outputs": [
        {
          "output_type": "execute_result",
          "execution_count": 28,
          "data": {
            "text/plain": "0.8757352941176471"
          },
          "metadata": {}
        }
      ]
    },
    {
      "metadata": {
        "trusted": true
      },
      "cell_type": "code",
      "source": "#Evaluation Gradient Boosting\nmetrics.accuracy_score(y_test,yhat4)",
      "execution_count": 29,
      "outputs": [
        {
          "output_type": "execute_result",
          "execution_count": 29,
          "data": {
            "text/plain": "0.9313725490196079"
          },
          "metadata": {}
        }
      ]
    },
    {
      "metadata": {
        "trusted": true
      },
      "cell_type": "code",
      "source": "#Evaluation SVM\nmetrics.accuracy_score(y_test,yhat5)",
      "execution_count": 30,
      "outputs": [
        {
          "output_type": "execute_result",
          "execution_count": 30,
          "data": {
            "text/plain": "0.9053921568627451"
          },
          "metadata": {}
        }
      ]
    },
    {
      "metadata": {
        "trusted": true
      },
      "cell_type": "code",
      "source": "#Evaluation MLP Classifier\nmetrics.accuracy_score(y_test,yhat6)",
      "execution_count": 31,
      "outputs": [
        {
          "output_type": "execute_result",
          "execution_count": 31,
          "data": {
            "text/plain": "0.9262254901960785"
          },
          "metadata": {}
        }
      ]
    },
    {
      "metadata": {},
      "cell_type": "markdown",
      "source": "### Classification report"
    },
    {
      "metadata": {
        "trusted": true
      },
      "cell_type": "code",
      "source": "print(metrics.classification_report(y_test,yhat4))",
      "execution_count": 32,
      "outputs": [
        {
          "output_type": "stream",
          "text": "             precision    recall  f1-score   support\n\n       s002       0.82      0.89      0.86        83\n       s003       0.93      0.93      0.93        88\n       s004       0.94      0.93      0.93        82\n       s005       0.92      0.92      0.92        91\n       s007       0.89      0.93      0.91        82\n       s008       0.88      0.85      0.86        67\n       s010       0.99      0.97      0.98        69\n       s011       0.95      0.92      0.94        79\n       s012       0.94      0.82      0.88        80\n       s013       0.96      0.94      0.95        82\n       s015       0.91      0.89      0.90        76\n       s016       0.94      0.96      0.95        89\n       s017       0.98      1.00      0.99        84\n       s018       0.96      0.86      0.91        87\n       s019       0.96      0.98      0.97        82\n       s020       0.87      0.88      0.88        76\n       s021       0.88      1.00      0.94        82\n       s022       0.95      0.99      0.97        90\n       s024       0.94      0.99      0.96        78\n       s025       0.97      0.99      0.98        78\n       s026       0.89      0.97      0.93        70\n       s027       0.96      0.99      0.97        71\n       s028       0.99      0.95      0.97        85\n       s029       0.87      0.89      0.88        65\n       s030       0.92      0.95      0.94        84\n       s031       0.86      0.91      0.89        90\n       s032       0.82      0.83      0.82        70\n       s033       1.00      0.97      0.98        92\n       s034       0.91      0.84      0.88        96\n       s035       0.96      0.95      0.96        83\n       s036       1.00      0.97      0.98        92\n       s037       0.87      0.91      0.89        75\n       s038       0.97      0.94      0.96        71\n       s039       0.99      0.97      0.98        78\n       s040       0.96      0.91      0.94        88\n       s041       0.92      0.92      0.92        72\n       s042       0.96      0.96      0.96        82\n       s043       0.98      0.98      0.98        83\n       s044       0.97      0.97      0.97        74\n       s046       0.92      0.89      0.90        88\n       s047       0.93      0.95      0.94        75\n       s048       0.92      0.94      0.93        71\n       s049       0.94      0.97      0.96        70\n       s050       0.95      0.92      0.94        79\n       s051       0.89      0.89      0.89        82\n       s052       0.99      0.95      0.97        73\n       s053       0.96      0.97      0.97        71\n       s054       0.84      0.85      0.84        79\n       s055       0.96      0.97      0.97        75\n       s056       0.95      0.91      0.93        85\n       s057       0.87      0.87      0.87        86\n\navg / total       0.93      0.93      0.93      4080\n\n",
          "name": "stdout"
        }
      ]
    },
    {
      "metadata": {
        "trusted": true
      },
      "cell_type": "code",
      "source": "print(metrics.classification_report(y_test,yhat6))",
      "execution_count": 33,
      "outputs": [
        {
          "output_type": "stream",
          "text": "             precision    recall  f1-score   support\n\n       s002       0.92      0.86      0.89        83\n       s003       0.95      0.91      0.93        88\n       s004       0.95      0.94      0.94        82\n       s005       0.97      0.95      0.96        91\n       s007       0.92      0.89      0.91        82\n       s008       0.87      0.87      0.87        67\n       s010       0.99      0.96      0.97        69\n       s011       0.90      0.95      0.93        79\n       s012       0.89      0.89      0.89        80\n       s013       0.94      0.91      0.93        82\n       s015       0.91      0.89      0.90        76\n       s016       0.91      0.97      0.94        89\n       s017       0.97      1.00      0.98        84\n       s018       0.97      0.84      0.90        87\n       s019       0.97      0.95      0.96        82\n       s020       0.86      0.89      0.88        76\n       s021       0.87      0.91      0.89        82\n       s022       0.97      1.00      0.98        90\n       s024       0.89      0.97      0.93        78\n       s025       0.96      0.97      0.97        78\n       s026       0.85      0.96      0.90        70\n       s027       0.93      0.93      0.93        71\n       s028       0.99      0.96      0.98        85\n       s029       0.89      0.85      0.87        65\n       s030       0.92      0.98      0.95        84\n       s031       0.81      0.86      0.83        90\n       s032       0.80      0.76      0.78        70\n       s033       0.97      0.97      0.97        92\n       s034       0.91      0.89      0.90        96\n       s035       0.96      0.96      0.96        83\n       s036       0.99      0.97      0.98        92\n       s037       0.86      0.93      0.90        75\n       s038       0.94      0.89      0.91        71\n       s039       0.95      0.95      0.95        78\n       s040       0.95      0.90      0.92        88\n       s041       0.83      0.88      0.85        72\n       s042       0.96      0.98      0.97        82\n       s043       0.99      0.98      0.98        83\n       s044       0.96      0.97      0.97        74\n       s046       0.93      0.85      0.89        88\n       s047       0.95      0.95      0.95        75\n       s048       0.86      0.93      0.89        71\n       s049       0.97      0.97      0.97        70\n       s050       0.90      0.92      0.91        79\n       s051       0.89      0.91      0.90        82\n       s052       1.00      0.97      0.99        73\n       s053       0.96      0.97      0.97        71\n       s054       0.91      0.86      0.88        79\n       s055       0.97      0.97      0.97        75\n       s056       0.93      0.93      0.93        85\n       s057       0.91      0.91      0.91        86\n\navg / total       0.93      0.93      0.93      4080\n\n",
          "name": "stdout"
        }
      ]
    },
    {
      "metadata": {
        "trusted": true
      },
      "cell_type": "markdown",
      "source": "# Confusion Matrix"
    },
    {
      "metadata": {
        "trusted": true
      },
      "cell_type": "code",
      "source": "",
      "execution_count": null,
      "outputs": []
    }
  ],
  "metadata": {
    "kernelspec": {
      "name": "python36",
      "display_name": "Python 3.6",
      "language": "python"
    },
    "language_info": {
      "mimetype": "text/x-python",
      "nbconvert_exporter": "python",
      "name": "python",
      "pygments_lexer": "ipython3",
      "version": "3.6.6",
      "file_extension": ".py",
      "codemirror_mode": {
        "version": 3,
        "name": "ipython"
      }
    }
  },
  "nbformat": 4,
  "nbformat_minor": 2
}